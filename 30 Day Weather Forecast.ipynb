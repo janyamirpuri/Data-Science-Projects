{
 "cells": [
  {
   "cell_type": "markdown",
   "id": "10444b94",
   "metadata": {},
   "source": [
    "### 30 Day Weather Forecast Data\n",
    "In this code, data was fetched from climate forecast in 30 days (https://rapidapi.com/auth/sign-up?referral=/community/api/open-weather-map) for select cities, and stored in individual CSVs.\n"
   ]
  },
  {
   "cell_type": "code",
   "execution_count": 1,
   "id": "448b09b3",
   "metadata": {},
   "outputs": [],
   "source": [
    "import pandas as pd\n",
    "import requests\n",
    "import json\n",
    "import numpy as np\n",
    "from datetime import date"
   ]
  },
  {
   "cell_type": "code",
   "execution_count": 2,
   "id": "29267fa1",
   "metadata": {},
   "outputs": [],
   "source": [
    "cities=[\"New York\", \"San Francisco\", \"Jersey City\", \"Washington DC\", \"Buffalo\", \"Albany\", \"Yonkers\", \"Ithaca\", \"Elmira\", \"Monsey\"]\n",
    "\n",
    "for i in cities:\n",
    "    url = \"https://community-open-weather-map.p.rapidapi.com/climate/month\"\n",
    "\n",
    "    querystring = {\"q\":i}\n",
    "\n",
    "    headers = {\n",
    "        'x-rapidapi-host': \"community-open-weather-map.p.rapidapi.com\",\n",
    "        'x-rapidapi-key': \"b51cef6865msh5517863c11c5a5dp11f0b9jsnb64a91709b8f\"\n",
    "        }\n",
    "\n",
    "    response = requests.request(\"GET\", url, headers=headers, params=querystring)\n",
    "    content = response.content\n",
    "    loaded = json.loads(content)\n",
    "    df = pd.DataFrame(loaded[\"list\"])\n",
    "    dfav = pd.DataFrame({\"temp\" : [] })\n",
    "    for row in range(df.shape[0]):\n",
    "        dfbaby = pd.DataFrame({\"temp\" : [df.loc[row, \"temp\"][\"average\"]]})\n",
    "        dfbaby.index = [row]\n",
    "        dfav = pd.concat([dfav,dfbaby])\n",
    "    \n",
    "    df[[\"temp\"]] = dfav\n",
    "\n",
    "    df.columns = [\"dt\", \"humidity\", \"pressure\", \"temp average\", \"wind_speed\"]\n",
    "    df.to_csv(i+ \".csv\")"
   ]
  },
  {
   "cell_type": "markdown",
   "id": "c58b9ad0",
   "metadata": {},
   "source": [
    "Furthermore, this data went through basic analysis to find: \n",
    "- The city that has the highest wind speed\n",
    "- The city that has the lowest pressure\n",
    "- The date and time of highest humidity in each city"
   ]
  },
  {
   "cell_type": "code",
   "execution_count": 3,
   "id": "38484dc4",
   "metadata": {},
   "outputs": [
    {
     "name": "stdout",
     "output_type": "stream",
     "text": [
      "The city with the highest windspeed is Buffalo with a maximum windspeed of 6.1\n",
      "The city with the lowest pressure is Buffalo with a minimum pressure of 1009.67\n"
     ]
    }
   ],
   "source": [
    "cities=['New York', 'San Francisco', 'Jersey City', 'Washington DC', 'Buffalo', 'Albany', 'Yonkers', 'Ithaca', 'Elmira', 'Monsey']\n",
    "windspeed = {}\n",
    "pressure = {}\n",
    "for i in cities:\n",
    "    data = np.genfromtxt( i + \".csv\", delimiter = \",\", skip_header=1)\n",
    "    t = max(data[:,5])\n",
    "    e = min(data[:,3])\n",
    "    windspeed[i] = [t]\n",
    "    pressure[i] = [e]\n",
    "windspeed\n",
    "yo = 0\n",
    "city = ''\n",
    "minus = 0\n",
    "city2 = ''\n",
    "for i in cities:\n",
    "    if windspeed[i][0] > yo:\n",
    "        yo = windspeed[i][0]\n",
    "        city = i\n",
    "    if pressure[i][0] > minus:\n",
    "        minus = pressure[i][0]\n",
    "for i in cities:\n",
    "    if pressure[i][0] < minus:\n",
    "        minus = pressure[i][0]\n",
    "        city2 = i\n",
    "        \n",
    "print(\"The city with the highest windspeed is \" + city + \" with a maximum windspeed of \" + str(yo))\n",
    "print(\"The city with the lowest pressure is \" + city2 + \" with a minimum pressure of \" + str(minus))"
   ]
  },
  {
   "cell_type": "code",
   "execution_count": 4,
   "id": "f5071526",
   "metadata": {},
   "outputs": [
    {
     "name": "stdout",
     "output_type": "stream",
     "text": [
      "In the city of New York, the day with the highest humidity (76.24) is 2022-02-06\n",
      "In the city of San Francisco, the day with the highest humidity (80.76) is 2022-02-07\n",
      "In the city of Jersey City, the day with the highest humidity (79.67) is 2022-02-06\n",
      "In the city of Washington DC, the day with the highest humidity (77.54) is 2022-01-14\n",
      "In the city of Buffalo, the day with the highest humidity (80.65) is 2022-02-09\n",
      "In the city of Albany, the day with the highest humidity (81.27) is 2022-02-06\n",
      "In the city of Yonkers, the day with the highest humidity (78.28) is 2022-02-06\n",
      "In the city of Ithaca, the day with the highest humidity (82.37) is 2022-01-17\n",
      "In the city of Elmira, the day with the highest humidity (82.37) is 2022-01-17\n",
      "In the city of Monsey, the day with the highest humidity (80.24) is 2022-02-06\n"
     ]
    }
   ],
   "source": [
    "humid = {}\n",
    "for i in cities:\n",
    "    data = np.genfromtxt( i + \".csv\", delimiter = \",\", skip_header=1)\n",
    "    t = max(data[:,2])\n",
    "    result = np.where(data[:,2] == t)\n",
    "    time = data[result[0][0],1]\n",
    "    timestamp = date.fromtimestamp(time)\n",
    "    print(\"In the city of \" + i + \", the day with the highest humidity (\" + str(t) +\") is \", end =\"\")\n",
    "    print(timestamp)"
   ]
  },
  {
   "cell_type": "markdown",
   "id": "5e62b5e3",
   "metadata": {},
   "source": [
    "Finally, all of the data was brought together in one final csv."
   ]
  },
  {
   "cell_type": "code",
   "execution_count": 5,
   "id": "0c3856f6",
   "metadata": {},
   "outputs": [],
   "source": [
    "newdf = pd.DataFrame({\"humidity\" : [], \"pressure\" : [], \"temp average\" : [], \"wind_speed\" : [], \"city_name\" : []})\n",
    "\n",
    "for i in cities:\n",
    "    data = pd.DataFrame(pd.read_csv(i + \".csv\", index_col=\"dt\"))\n",
    "    del data[\"Unnamed: 0\"]\n",
    "    data[\"city_name\"] = i \n",
    "    newdf = pd.concat([newdf, data])\n",
    "newdf.to_csv(\"all.csv\")"
   ]
  }
 ],
 "metadata": {
  "kernelspec": {
   "display_name": "Python [conda env:DSTOOLS]",
   "language": "python",
   "name": "conda-env-DSTOOLS-py"
  },
  "language_info": {
   "codemirror_mode": {
    "name": "ipython",
    "version": 3
   },
   "file_extension": ".py",
   "mimetype": "text/x-python",
   "name": "python",
   "nbconvert_exporter": "python",
   "pygments_lexer": "ipython3",
   "version": "3.7.10"
  }
 },
 "nbformat": 4,
 "nbformat_minor": 5
}
